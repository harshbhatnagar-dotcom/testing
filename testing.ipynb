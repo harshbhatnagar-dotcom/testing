{
 "cells": [
  {
   "cell_type": "code",
   "execution_count": 6,
   "id": "0e98258c-bc03-438d-9f67-deb77bc0e78d",
   "metadata": {},
   "outputs": [
    {
     "data": {
      "application/vnd.jupyter.widget-view+json": {
       "model_id": "6cb3f274b7e0429c9ecd9c7ce5aba1bc",
       "version_major": 2,
       "version_minor": 0
      },
      "text/plain": [
       "Text(value='', description='Name:')"
      ]
     },
     "metadata": {},
     "output_type": "display_data"
    },
    {
     "data": {
      "application/vnd.jupyter.widget-view+json": {
       "model_id": "86a0ed6a53c842d4942301da45f016cd",
       "version_major": 2,
       "version_minor": 0
      },
      "text/plain": [
       "IntSlider(value=25, description='Age:', min=10)"
      ]
     },
     "metadata": {},
     "output_type": "display_data"
    },
    {
     "data": {
      "application/vnd.jupyter.widget-view+json": {
       "model_id": "660d086e3cec425b9c28e08f11bb7bd4",
       "version_major": 2,
       "version_minor": 0
      },
      "text/plain": [
       "Button(description='Submit', style=ButtonStyle())"
      ]
     },
     "metadata": {},
     "output_type": "display_data"
    },
    {
     "data": {
      "application/vnd.jupyter.widget-view+json": {
       "model_id": "f4ecc634eb8f4e0ca44152ef0adddb7f",
       "version_major": 2,
       "version_minor": 0
      },
      "text/plain": [
       "Output()"
      ]
     },
     "metadata": {},
     "output_type": "display_data"
    }
   ],
   "source": [
    "import ipywidgets as widgets\n",
    "from IPython.display import display\n",
    "\n",
    "# Create UI elements\n",
    "name = widgets.Text(description=\"Name:\")\n",
    "age = widgets.IntSlider(value=25, min=10, max=100, description=\"Age:\")\n",
    "submit = widgets.Button(description=\"Submit\")\n",
    "\n",
    "output = widgets.Output()\n",
    "\n",
    "# Function to process input\n",
    "def on_submit_clicked(b):\n",
    "    with output:\n",
    "        output.clear_output()\n",
    "        print(f\"Hello {name.value}, you are {age.value} years old!\")\n",
    "\n",
    "submit.on_click(on_submit_clicked)\n",
    "\n",
    "# Display UI\n",
    "display(name, age, submit, output)"
   ]
  },
  {
   "cell_type": "code",
   "execution_count": null,
   "id": "9cf1d0d6-f02c-420a-ad1d-f609666f0119",
   "metadata": {},
   "outputs": [],
   "source": []
  }
 ],
 "metadata": {
  "kernelspec": {
   "display_name": "Python 3 (ipykernel)",
   "language": "python",
   "name": "python3"
  },
  "language_info": {
   "codemirror_mode": {
    "name": "ipython",
    "version": 3
   },
   "file_extension": ".py",
   "mimetype": "text/x-python",
   "name": "python",
   "nbconvert_exporter": "python",
   "pygments_lexer": "ipython3",
   "version": "3.13.1"
  }
 },
 "nbformat": 4,
 "nbformat_minor": 5
}
